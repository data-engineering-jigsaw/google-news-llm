{
 "cells": [
  {
   "cell_type": "markdown",
   "id": "912d5b02-50b1-4a98-8a92-b7d5c944dfe4",
   "metadata": {},
   "source": [
    "# Google News Chatbot"
   ]
  },
  {
   "cell_type": "markdown",
   "id": "7192206a-ccf2-405c-9153-3beeebeadafc",
   "metadata": {},
   "source": [
    "### Introduction"
   ]
  },
  {
   "cell_type": "markdown",
   "id": "8083fce0-bd61-4453-99ea-67e75a5e731a",
   "metadata": {},
   "source": [
    "In this lesson, we will build a chatbot using the Google News API.  To do so, we'll use the [Python Google News library](https://pypi.org/project/GoogleNews/)."
   ]
  },
  {
   "cell_type": "markdown",
   "id": "79fcb920-b0d7-41cd-9e22-0839a4b8e964",
   "metadata": {},
   "source": [
    "### Getting situated\n",
    "\n",
    "You can get an overview for how the codebase works by looking at the `console.py`.  You will have to fill in your openai api key in the .env file."
   ]
  },
  {
   "cell_type": "markdown",
   "id": "baff1c29-d0e9-4cc0-99ed-707ab2c83c21",
   "metadata": {},
   "source": [
    "### Build the newscraper"
   ]
  },
  {
   "cell_type": "markdown",
   "id": "b2a67d47-b01a-49ba-bbaa-72359e8b52bd",
   "metadata": {},
   "source": [
    "* Navigate to the `scraper/news_scraper.py` file, and complete the following functions."
   ]
  },
  {
   "cell_type": "markdown",
   "id": "7cda6d36-9d5b-4cea-98f7-45860f469d2b",
   "metadata": {},
   "source": [
    "* `get_links(search_term, time_period)`\n",
    "    * Use the GoogleNews library to return search results for news from the past day.  The return value should be a list of urls from the search results.  \n",
    "    * It should take in the search_term as the first argument and `time_period` should have a default argument of being set to one day.\n",
    "    * Pass the corresponding test.\n",
    "    \n",
    "* clean_link\n",
    "    * If you try to go to many of the links returned, you'll see that they do not work.  The issue is that they have additional text tacked on at the end.\n",
    "    * `'https://phillysportsnetwork.com/2024/01/22/embiid-sixers-scoring-record/&ved=2ahUKEwjNvqH0z6yEAxX7SjABHXjuDgsQxfQBegQIARAC&usg=AOvVaw1Dc4SkSkyLvC9nf7Gh83GY'`\n",
    "    * So write a `clean_link` function, that will take in the returned link, and then only return the text before the ampersand.  (See the test).\n",
    "    \n",
    "* `get_text_from_link`\n",
    "    * We filled this code out for you.  You can look at the input and output to see the work performed.  Because making a request to a webpage returns html text, the function uses beautiful soup to extract the text, and combine it together.  It does so, so long as the text is not in a css or javascript tag.\n",
    "    \n",
    "* clean_text(html_text)\n",
    "    * The resulting text still may have leading or trailing white spaces, new line characters (\\n) or carriage characters (\\r).  Replace the new line characters with a single space, and remove the carriage characters and whitespace completely (see the test).\n",
    "    * Slice text - finally this function should only return the first 15_000 characters from the string.  The reason for shortening this is because we can only pass so many tokens (text) to our ml model.\n",
    "* build_sources_from(question)\n",
    "    * This function ties the other functions together.  Given the text of a question, it returns a list of Source instances (see the models folder).  Each source instance should have the url and the cleaned text set as the text attribute."
   ]
  },
  {
   "cell_type": "markdown",
   "id": "644f1e20-65f7-4291-9e31-078583ac983b",
   "metadata": {},
   "source": [
    "### LLM Model"
   ]
  },
  {
   "cell_type": "markdown",
   "id": "fd5edf48-8b3b-4c7d-8d9e-d3a332bbd5a7",
   "metadata": {},
   "source": [
    "* `build_context`\n",
    "    * We'll now want to take the list of source instances, and concatenate the text from each of the sources together.  Separate the text between each source with two new line characters.  (See the test)."
   ]
  },
  {
   "cell_type": "markdown",
   "id": "81080d63-0097-40ac-8d3a-e3d5318e16bb",
   "metadata": {},
   "source": [
    "* generate_prompt\n",
    "    * You can see that the `generate_prompt` function takes the list of sources, uses the `build_context` function to build the combined string, and then adds it to an initial prompt.\n",
    "    \n",
    "* get_answer\n",
    "    * This function then passes the prompt to the model.\n"
   ]
  },
  {
   "cell_type": "markdown",
   "id": "d73dc67b-9c3c-4f56-8d07-573fd6268167",
   "metadata": {},
   "source": [
    "### Try it out"
   ]
  },
  {
   "cell_type": "markdown",
   "id": "ec4f461c-17bd-4389-9a05-207f4ead9446",
   "metadata": {},
   "source": [
    "Ok, so now run the `console.py` file and see this in action."
   ]
  }
 ],
 "metadata": {
  "kernelspec": {
   "display_name": "Python 3 (ipykernel)",
   "language": "python",
   "name": "python3"
  },
  "language_info": {
   "codemirror_mode": {
    "name": "ipython",
    "version": 3
   },
   "file_extension": ".py",
   "mimetype": "text/x-python",
   "name": "python",
   "nbconvert_exporter": "python",
   "pygments_lexer": "ipython3",
   "version": "3.10.13"
  }
 },
 "nbformat": 4,
 "nbformat_minor": 5
}
